{
 "cells": [
  {
   "cell_type": "code",
   "execution_count": 1,
   "id": "4b90f8b8",
   "metadata": {},
   "outputs": [],
   "source": [
    "import pandas as pd\n",
    "import numpy as np"
   ]
  },
  {
   "cell_type": "code",
   "execution_count": 2,
   "id": "cb15e512",
   "metadata": {},
   "outputs": [],
   "source": [
    "from selenium import webdriver\n",
    "from selenium.webdriver.support.ui import WebDriverWait\n",
    "from selenium.webdriver.common.by import By"
   ]
  },
  {
   "cell_type": "code",
   "execution_count": 3,
   "id": "f5e8e574",
   "metadata": {},
   "outputs": [],
   "source": [
    "from bs4 import BeautifulSoup as BS"
   ]
  },
  {
   "cell_type": "code",
   "execution_count": 4,
   "id": "9358d3f8",
   "metadata": {},
   "outputs": [],
   "source": [
    "from time import sleep"
   ]
  },
  {
   "cell_type": "code",
   "execution_count": 5,
   "id": "3cc5e8b6",
   "metadata": {},
   "outputs": [],
   "source": [
    "import csv"
   ]
  },
  {
   "cell_type": "code",
   "execution_count": 6,
   "id": "85fc70bc",
   "metadata": {},
   "outputs": [],
   "source": [
    "import warnings\n",
    "warnings.filterwarnings('ignore')"
   ]
  },
  {
   "cell_type": "code",
   "execution_count": null,
   "id": "3e19b017",
   "metadata": {},
   "outputs": [],
   "source": []
  },
  {
   "cell_type": "code",
   "execution_count": 7,
   "id": "117ea476",
   "metadata": {},
   "outputs": [],
   "source": [
    "df = pd.read_csv('personLinks.csv')"
   ]
  },
  {
   "cell_type": "code",
   "execution_count": 8,
   "id": "e97803b0",
   "metadata": {},
   "outputs": [
    {
     "data": {
      "text/html": [
       "<div>\n",
       "<style scoped>\n",
       "    .dataframe tbody tr th:only-of-type {\n",
       "        vertical-align: middle;\n",
       "    }\n",
       "\n",
       "    .dataframe tbody tr th {\n",
       "        vertical-align: top;\n",
       "    }\n",
       "\n",
       "    .dataframe thead th {\n",
       "        text-align: right;\n",
       "    }\n",
       "</style>\n",
       "<table border=\"1\" class=\"dataframe\">\n",
       "  <thead>\n",
       "    <tr style=\"text-align: right;\">\n",
       "      <th></th>\n",
       "      <th>Name</th>\n",
       "      <th>Link</th>\n",
       "    </tr>\n",
       "  </thead>\n",
       "  <tbody>\n",
       "    <tr>\n",
       "      <th>0</th>\n",
       "      <td>AAFOUALLAH RIAD</td>\n",
       "      <td>https://a810-bisweb.nyc.gov/bisweb/LicenseQuer...</td>\n",
       "    </tr>\n",
       "    <tr>\n",
       "      <th>1</th>\n",
       "      <td>AAMAR ZEESHAN</td>\n",
       "      <td>https://a810-bisweb.nyc.gov/bisweb/LicenseQuer...</td>\n",
       "    </tr>\n",
       "    <tr>\n",
       "      <th>2</th>\n",
       "      <td>AAMER MUSHTAQ</td>\n",
       "      <td>https://a810-bisweb.nyc.gov/bisweb/LicenseQuer...</td>\n",
       "    </tr>\n",
       "    <tr>\n",
       "      <th>3</th>\n",
       "      <td>AANTUNES LUIS</td>\n",
       "      <td>https://a810-bisweb.nyc.gov/bisweb/LicenseQuer...</td>\n",
       "    </tr>\n",
       "    <tr>\n",
       "      <th>4</th>\n",
       "      <td>AARON BROYN</td>\n",
       "      <td>https://a810-bisweb.nyc.gov/bisweb/LicenseQuer...</td>\n",
       "    </tr>\n",
       "  </tbody>\n",
       "</table>\n",
       "</div>"
      ],
      "text/plain": [
       "              Name                                               Link\n",
       "0  AAFOUALLAH RIAD  https://a810-bisweb.nyc.gov/bisweb/LicenseQuer...\n",
       "1    AAMAR ZEESHAN  https://a810-bisweb.nyc.gov/bisweb/LicenseQuer...\n",
       "2    AAMER MUSHTAQ  https://a810-bisweb.nyc.gov/bisweb/LicenseQuer...\n",
       "3    AANTUNES LUIS  https://a810-bisweb.nyc.gov/bisweb/LicenseQuer...\n",
       "4      AARON BROYN  https://a810-bisweb.nyc.gov/bisweb/LicenseQuer..."
      ]
     },
     "execution_count": 8,
     "metadata": {},
     "output_type": "execute_result"
    }
   ],
   "source": [
    "df.head()"
   ]
  },
  {
   "cell_type": "code",
   "execution_count": 9,
   "id": "a9171d6d",
   "metadata": {},
   "outputs": [],
   "source": [
    "# Start the Selenium WebDriver\n",
    "path = r'chromedriver.exe'\n",
    "driver = webdriver.Chrome(path)"
   ]
  },
  {
   "cell_type": "code",
   "execution_count": null,
   "id": "72bf97ae",
   "metadata": {},
   "outputs": [],
   "source": []
  },
  {
   "cell_type": "code",
   "execution_count": 10,
   "id": "303abd37",
   "metadata": {},
   "outputs": [],
   "source": [
    "# import re\n",
    "\n",
    "# name_pattern = re.compile(r\"^[A-Za-z]+(?:\\s[A-Za-z]+)?$\")\n",
    "\n",
    "# def is_valid_name(name):\n",
    "#     return bool(name_pattern.match(name))"
   ]
  },
  {
   "cell_type": "code",
   "execution_count": 11,
   "id": "1234917f",
   "metadata": {},
   "outputs": [],
   "source": [
    "# print(is_valid_name('RIAD                        AAFOUALLAH'))"
   ]
  },
  {
   "cell_type": "code",
   "execution_count": 12,
   "id": "e6f047d6",
   "metadata": {},
   "outputs": [],
   "source": [
    "# driver.get(df['Link'][0])\n",
    "\n",
    "# page = driver.page_source\n",
    "\n",
    "# soup = BS(page, \"lxml\")\n",
    "# body = soup.find('body')\n",
    "# center = body.find('center')\n",
    "# table = center.find_all('table')\n",
    "\n",
    "# for index, item in enumerate(table):\n",
    "#     print(index)\n",
    "#     print(item)\n",
    "#     print(\"**********************************\")"
   ]
  },
  {
   "cell_type": "code",
   "execution_count": 13,
   "id": "094fc306",
   "metadata": {},
   "outputs": [],
   "source": [
    "# driver.get(df['Link'][1])"
   ]
  },
  {
   "cell_type": "code",
   "execution_count": 14,
   "id": "18d82ed0",
   "metadata": {},
   "outputs": [],
   "source": [
    "# page = driver.page_source\n",
    "\n",
    "# soup = BS(page, \"lxml\")\n",
    "# body = soup.find('body')\n",
    "# center = body.find('center')\n",
    "# table = center.find_all('table')"
   ]
  },
  {
   "cell_type": "code",
   "execution_count": 15,
   "id": "42ad6602",
   "metadata": {},
   "outputs": [],
   "source": [
    "# for index, item in enumerate(table):\n",
    "#     print(index)\n",
    "#     print(item)\n",
    "#     print(\"**********************************\")"
   ]
  },
  {
   "cell_type": "code",
   "execution_count": null,
   "id": "229223eb",
   "metadata": {},
   "outputs": [],
   "source": []
  },
  {
   "cell_type": "code",
   "execution_count": null,
   "id": "1687ae6e",
   "metadata": {},
   "outputs": [],
   "source": []
  },
  {
   "cell_type": "code",
   "execution_count": 16,
   "id": "fbce2764",
   "metadata": {},
   "outputs": [],
   "source": [
    "allFinalData = []"
   ]
  },
  {
   "cell_type": "code",
   "execution_count": 17,
   "id": "7603bb73",
   "metadata": {},
   "outputs": [],
   "source": [
    "# count = 0"
   ]
  },
  {
   "cell_type": "code",
   "execution_count": 18,
   "id": "5a2ee3cd",
   "metadata": {},
   "outputs": [],
   "source": [
    "# for link in df['Link'][:2]:\n",
    "#     count += 1\n",
    "#     print(count)"
   ]
  },
  {
   "cell_type": "code",
   "execution_count": 20,
   "id": "9390fe8d",
   "metadata": {},
   "outputs": [
    {
     "name": "stdout",
     "output_type": "stream",
     "text": [
      "AAFOUALLAH RIAD https://a810-bisweb.nyc.gov/bisweb/LicenseQueryServlet?licensetype=G&licno=621840&requestid=1\n",
      "AAMAR ZEESHAN https://a810-bisweb.nyc.gov/bisweb/LicenseQueryServlet?licensetype=G&licno=617984&requestid=1\n",
      "AAMER MUSHTAQ https://a810-bisweb.nyc.gov/bisweb/LicenseQueryServlet?licensetype=G&licno=605070&requestid=1\n",
      "AANTUNES LUIS https://a810-bisweb.nyc.gov/bisweb/LicenseQueryServlet?licensetype=G&licno=615589&requestid=1\n"
     ]
    }
   ],
   "source": [
    "for name, link in zip(df['Name'][:4], df['Link'][:4]):\n",
    "    print(name, link)\n",
    "#     break"
   ]
  },
  {
   "cell_type": "code",
   "execution_count": 22,
   "id": "ca8d6dd8",
   "metadata": {},
   "outputs": [],
   "source": [
    "# for firstName, link in zip(df['Name'], df['Link']):\n",
    "for firstName, link in zip(df['Name'][:4], df['Link'][:4]):\n",
    "    \n",
    "#     sleep(1)\n",
    "    driver = webdriver.Chrome(path)\n",
    "    sleep(2)\n",
    "    \n",
    "    driver.get(link)\n",
    "\n",
    "\n",
    "    # NEW PAGE\n",
    "    # SCRAPING THE DATA FROM THESE PAGE\n",
    "\n",
    "    page = driver.page_source\n",
    "\n",
    "    soup = BS(page, \"lxml\")\n",
    "    body = soup.find('body')\n",
    "    center = body.find('center')\n",
    "    table = center.find_all('table')\n",
    "    \n",
    "    for index, item in enumerate(table):\n",
    "\n",
    "        if (index == 3):\n",
    "\n",
    "            safetyarr = []\n",
    "            tablearr = []\n",
    "            endorsementarr = []\n",
    "\n",
    "            tbody = item.find('tbody')\n",
    "            tr = tbody.find_all('tr')\n",
    "            \n",
    "            name = \"\"\n",
    "\n",
    "            for idx, row in enumerate(tr):\n",
    "\n",
    "                if(idx == 1):\n",
    "                    rawName = row.find_all('td', class_='centercolhdg')\n",
    "\n",
    "                    for itemName in rawName:\n",
    "                        name = itemName.text\n",
    "#                         safetyarr.append(name)\n",
    "#                         print(name)\n",
    "#                         print(\"++++++++++++++\")\n",
    "        \n",
    "#                 print(name)\n",
    "                if(name == \"\"):\n",
    "#                     print(\"here\")\n",
    "                    flag = 1\n",
    "                    flaggyy = 0\n",
    "                else:\n",
    "#                     print(\"there\")\n",
    "                    flag = 0\n",
    "                    flaggyy = -1\n",
    "                    \n",
    "\n",
    "                if(idx == (4+flag)):\n",
    "                    dateCont = row.find_all('td', class_='content')\n",
    "\n",
    "                    for i, itemDateCont in enumerate(dateCont):\n",
    "                        if(i == 0):\n",
    "                            date = itemDateCont.text\n",
    "                            safetyarr.append(date)\n",
    "                            # print(date)\n",
    "                        if(i == 1):\n",
    "                            contId = itemDateCont.text\n",
    "                            safetyarr.append(contId)\n",
    "                        #     print(contId)\n",
    "                        #\n",
    "                        # print(\"+++++++++++++++\")\n",
    "\n",
    "\n",
    "                if (idx == (5+flag)):\n",
    "                    statusExp = row.find_all('td', class_='content')\n",
    "\n",
    "                    for i, itemstatusExp in enumerate(statusExp):\n",
    "                        if (i == 0):\n",
    "                            status1 = itemstatusExp.text\n",
    "                            safetyarr.append(status1)\n",
    "                            # print(status1)\n",
    "                        if (i == 1):\n",
    "                            expiration = itemstatusExp.text\n",
    "                            safetyarr.append(expiration)\n",
    "                        #     print(expiration)\n",
    "                        #\n",
    "                        # print(\"+++++++++++++++\")\n",
    "\n",
    "                if (idx == (6+flag)):\n",
    "                    cityEmpRaw = row.find_all('td', class_='content')\n",
    "\n",
    "                    for i, itemcityEmp in enumerate(cityEmpRaw):\n",
    "                        if (i == 0):\n",
    "                           cityEmp  = itemcityEmp.text\n",
    "                           safetyarr.append(cityEmp)\n",
    "                        #    print(cityEmp)\n",
    "                        #\n",
    "                        # print(\"+++++++++++++++\")\n",
    "\n",
    "                if (idx == (7+flag)):\n",
    "                    officeAddressRaw = row.find_all('td', class_='content')\n",
    "\n",
    "                    for i, itemofficeAdd in enumerate(officeAddressRaw):\n",
    "                        if (i == 0):\n",
    "                           officeAdd  = itemofficeAdd.text\n",
    "                           safetyarr.append(officeAdd)\n",
    "                        #    print(officeAdd)\n",
    "                        #\n",
    "                        # print(\"+++++++++++++++\")\n",
    "\n",
    "                if (idx == (8+flag)):\n",
    "                    bussinessPhoneRaw = row.find_all('td', class_='content')\n",
    "\n",
    "                    for i, itembussinessPhone in enumerate(bussinessPhoneRaw):\n",
    "                        if (i == 0):\n",
    "                           bussPhone  = itembussinessPhone.text\n",
    "                           safetyarr.append(bussPhone)\n",
    "                        #    print(bussPhone)\n",
    "                        #\n",
    "                        # print(\"+++++++++++++++\")\n",
    "\n",
    "                if (idx == (12+flag)):\n",
    "                    bussRaw = row.find_all('td', class_='content')\n",
    "\n",
    "                    for i, itembuss in enumerate(bussRaw):\n",
    "                        if (i == 0):\n",
    "                           business1  = itembuss.text\n",
    "                           safetyarr.append(business1)\n",
    "                        #    print(business1)\n",
    "                        #\n",
    "                        # print(\"+++++++++++++++\")\n",
    "\n",
    "                if (idx == (13+flag)):\n",
    "                    doingbussRaw = row.find_all('td', class_='content')\n",
    "\n",
    "                    for i, itemdoingbuss in enumerate(doingbussRaw):\n",
    "                        if (i == 0):\n",
    "                           doingBussiness = itemdoingbuss.text\n",
    "                           safetyarr.append(doingBussiness)\n",
    "                        #    print(doingBussiness)\n",
    "                        #\n",
    "                        # print(\"+++++++++++++++\")\n",
    "\n",
    "\n",
    "                if (idx == (16+flaggyy) or idx == (17+flaggyy) or idx == (18+flaggyy)):\n",
    "                    insidearr = []\n",
    "                    alltd = row.find_all('td', class_='content')\n",
    "                    alltdcenter = row.find_all('td', class_='centercontent')\n",
    "\n",
    "                    for item in alltd:\n",
    "                        output = item.text\n",
    "                        insidearr.append(output)\n",
    "                        # print(item.text)\n",
    "\n",
    "                    for item in alltdcenter:\n",
    "                        output = item.text\n",
    "                        insidearr.append(output)\n",
    "                        # print(item.text)\n",
    "                    tablearr.append(insidearr)\n",
    "\n",
    "                    # print(tablearr)\n",
    "                    # print(\"+++++++++++\")\n",
    "#\n",
    "                if (idx == (23) or idx == (24) or idx == (25)):\n",
    "                    alltdrow = row.find_all('td', class_='content')\n",
    "\n",
    "                    for item in alltdrow:\n",
    "                        output = item.text\n",
    "                        endorsementarr.append(output)\n",
    "                    # print(endorsementarr)\n",
    "#\n",
    "#             print(safetyarr)\n",
    "#             print(tablearr)\n",
    "#             print(endorsementarr)\n",
    "\n",
    "            finalarr = []\n",
    "    \n",
    "            finalarr.append(firstName)\n",
    "\n",
    "            for i in safetyarr:\n",
    "                finalarr.append(i)\n",
    "\n",
    "            for i in tablearr:\n",
    "                finalarr.append(i)\n",
    "\n",
    "            for i in endorsementarr:\n",
    "                finalarr.append(i)\n",
    "                \n",
    "                \n",
    "#             print(finalarr)\n",
    "\n",
    "            cleaned_data = []\n",
    "            for item in finalarr:\n",
    "                if isinstance(item, str):\n",
    "                    cleaned_item = item.replace('\\t', '').replace('\\xa0', '').replace('\\n', '')\n",
    "                else:\n",
    "                    cleaned_item = item\n",
    "                cleaned_data.append(cleaned_item)\n",
    "                \n",
    "            allFinalData.append(cleaned_data)\n",
    "\n",
    "            sleep(1)\n",
    "            \n",
    "    sleep(1)\n"
   ]
  },
  {
   "cell_type": "code",
   "execution_count": 94,
   "id": "62ac6bc3",
   "metadata": {
    "scrolled": true
   },
   "outputs": [],
   "source": [
    "# allFinalData"
   ]
  },
  {
   "cell_type": "code",
   "execution_count": 95,
   "id": "70f40062",
   "metadata": {},
   "outputs": [],
   "source": [
    "# for i in allFinalData:\n",
    "#     print(i)"
   ]
  },
  {
   "cell_type": "code",
   "execution_count": 96,
   "id": "8b65d9de",
   "metadata": {},
   "outputs": [],
   "source": [
    "# cleaned_data = []\n",
    "# for item in finalarr:\n",
    "#     if isinstance(item, str):\n",
    "#         cleaned_item = item.replace('\\t', '').replace('\\xa0', '').replace('\\n', '')\n",
    "#     else:\n",
    "#         cleaned_item = item\n",
    "#     cleaned_data.append(cleaned_item)\n",
    "\n",
    "# print(cleaned_data)"
   ]
  },
  {
   "cell_type": "code",
   "execution_count": null,
   "id": "e6e00a83",
   "metadata": {},
   "outputs": [],
   "source": []
  },
  {
   "cell_type": "code",
   "execution_count": null,
   "id": "91715526",
   "metadata": {},
   "outputs": [],
   "source": []
  },
  {
   "cell_type": "code",
   "execution_count": 97,
   "id": "85d0777f",
   "metadata": {},
   "outputs": [],
   "source": [
    "# allFinalData"
   ]
  },
  {
   "cell_type": "code",
   "execution_count": 23,
   "id": "b6c0d16e",
   "metadata": {},
   "outputs": [],
   "source": [
    "firstPage = pd.DataFrame(allFinalData)"
   ]
  },
  {
   "cell_type": "code",
   "execution_count": 24,
   "id": "58683d17",
   "metadata": {},
   "outputs": [],
   "source": [
    "firstPage.to_csv(\"delte.csv\", index=False)"
   ]
  },
  {
   "cell_type": "code",
   "execution_count": 1,
   "id": "e210fb37",
   "metadata": {},
   "outputs": [
    {
     "ename": "FileNotFoundError",
     "evalue": "[Errno 2] No such file or directory: 'SerialNumbers.txt'",
     "output_type": "error",
     "traceback": [
      "\u001b[1;31m---------------------------------------------------------------------------\u001b[0m",
      "\u001b[1;31mFileNotFoundError\u001b[0m                         Traceback (most recent call last)",
      "Input \u001b[1;32mIn [1]\u001b[0m, in \u001b[0;36m<cell line: 2>\u001b[1;34m()\u001b[0m\n\u001b[0;32m      1\u001b[0m \u001b[38;5;66;03m# Read the lines from the input file\u001b[39;00m\n\u001b[1;32m----> 2\u001b[0m \u001b[38;5;28;01mwith\u001b[39;00m \u001b[38;5;28;43mopen\u001b[39;49m\u001b[43m(\u001b[49m\u001b[38;5;124;43m'\u001b[39;49m\u001b[38;5;124;43mSerialNumbers.txt\u001b[39;49m\u001b[38;5;124;43m'\u001b[39;49m\u001b[43m,\u001b[49m\u001b[43m \u001b[49m\u001b[38;5;124;43m'\u001b[39;49m\u001b[38;5;124;43mr\u001b[39;49m\u001b[38;5;124;43m'\u001b[39;49m\u001b[43m)\u001b[49m \u001b[38;5;28;01mas\u001b[39;00m file:\n\u001b[0;32m      3\u001b[0m     lines \u001b[38;5;241m=\u001b[39m file\u001b[38;5;241m.\u001b[39mreadlines()\n",
      "\u001b[1;31mFileNotFoundError\u001b[0m: [Errno 2] No such file or directory: 'SerialNumbers.txt'"
     ]
    }
   ],
   "source": [
    "# Read the lines from the input file\n",
    "with open('SerialNumbers.txt', 'r') as file:\n",
    "    lines = file.readlines()"
   ]
  },
  {
   "cell_type": "code",
   "execution_count": 139,
   "id": "f6fbae5b",
   "metadata": {},
   "outputs": [],
   "source": [
    "# secondPage = pd.DataFrame(allFinalData)"
   ]
  },
  {
   "cell_type": "code",
   "execution_count": 140,
   "id": "f1fc5a7d",
   "metadata": {},
   "outputs": [],
   "source": [
    "# secondPage.to_csv(\"finalSecondPage.csv\", index=False)"
   ]
  },
  {
   "cell_type": "code",
   "execution_count": null,
   "id": "05ec97c7",
   "metadata": {},
   "outputs": [],
   "source": []
  },
  {
   "cell_type": "code",
   "execution_count": null,
   "id": "503dee45",
   "metadata": {},
   "outputs": [],
   "source": []
  },
  {
   "cell_type": "code",
   "execution_count": null,
   "id": "b7e52bf5",
   "metadata": {},
   "outputs": [],
   "source": []
  },
  {
   "cell_type": "code",
   "execution_count": null,
   "id": "48fe9fd5",
   "metadata": {},
   "outputs": [],
   "source": []
  },
  {
   "cell_type": "code",
   "execution_count": 2,
   "id": "33241529",
   "metadata": {},
   "outputs": [],
   "source": [
    "lud = ['load 1', 'load 2']"
   ]
  },
  {
   "cell_type": "code",
   "execution_count": 6,
   "id": "048db7ff",
   "metadata": {},
   "outputs": [
    {
     "name": "stdout",
     "output_type": "stream",
     "text": [
      "load 1\n",
      "load 2\n"
     ]
    }
   ],
   "source": [
    "for i in lud:\n",
    "    print(i)"
   ]
  },
  {
   "cell_type": "code",
   "execution_count": null,
   "id": "2f1e77a1",
   "metadata": {},
   "outputs": [],
   "source": []
  }
 ],
 "metadata": {
  "kernelspec": {
   "display_name": "Python 3 (ipykernel)",
   "language": "python",
   "name": "python3"
  },
  "language_info": {
   "codemirror_mode": {
    "name": "ipython",
    "version": 3
   },
   "file_extension": ".py",
   "mimetype": "text/x-python",
   "name": "python",
   "nbconvert_exporter": "python",
   "pygments_lexer": "ipython3",
   "version": "3.10.0"
  }
 },
 "nbformat": 4,
 "nbformat_minor": 5
}
